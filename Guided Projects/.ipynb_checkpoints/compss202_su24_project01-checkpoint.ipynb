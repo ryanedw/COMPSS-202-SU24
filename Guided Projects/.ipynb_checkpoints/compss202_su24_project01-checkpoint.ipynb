{
 "cells": [
  {
   "cell_type": "markdown",
   "metadata": {},
   "source": [
    "<img src=\"https://raw.githubusercontent.com/ryanedw/COMPSS-202-SU24/main/Images/UCB-macss.jpg\" width=\"120\" align=\"right\"/>\n",
    "<h1>COMPSS 202 Guided Project 1</h1>"
   ]
  },
  {
   "cell_type": "markdown",
   "metadata": {},
   "source": [
    "<h2>\"He's So Tall and Educated as Hell\"</h2>\n",
    "\n",
    "Inspired by [this person you've probably never heard of](https://en.wikipedia.org/wiki/Taylor_Swift) and her lyrics in [this song](https://en.wikipedia.org/wiki/Wildest_Dreams_(Taylor_Swift_song))"
   ]
  },
  {
   "cell_type": "markdown",
   "metadata": {},
   "source": [
    "Feel free to work together in teams of 2-4 students. Please answer each question below in your own original and complete sentences. Questions appear in <b><font color=\"red\">bold red</font></b>. Be parsimonious: brief while also hitting the main points. Students earn scores on this project for complete answers, which can be either subjectively correct or incorrect.\n",
    "\n",
    "<b>This exercise is intended to blend familiarity with confusion.</b> Some questions have clear answers. Others have many answers, some of which are probably better answers than others, but all might still be correct in one way or another.\n"
   ]
  },
  {
   "cell_type": "markdown",
   "metadata": {},
   "source": [
    "To begin, please run the cells below to load up the libraries necessary to access data in Google Sheets. Best practices include running the cells in order."
   ]
  },
  {
   "cell_type": "code",
   "execution_count": null,
   "metadata": {
    "collapsed": true
   },
   "outputs": [],
   "source": [
    "install.packages(\"googlesheets4\")\n",
    "library(googlesheets4)\n",
    "gs4_deauth()"
   ]
  },
  {
   "cell_type": "markdown",
   "metadata": {},
   "source": [
    "<h3>The data</h3>\n",
    "\n",
    "Consider the following dataset from the 8th wave in 2006 of the [U.S. Health and Retirement Study (HRS)](https://hrs.isr.umich.edu/about). It includes observations on objective height and weight and years of education for 2,063 male-female coupled dyads. Males are coded as “respondents,” whose variables start with the prefix \"r,\" and females are coded as \"spouses,\" with an \"s.\" Wave-specific variables are indexed by the next character in the variable name, like `r8heightbio` for objective height measured in wave 8 and `ragender` for the respondent's gender. Height and weight were measured by an interviewer during an enhanced face-to-face interview.\n",
    "\n",
    "Because males and females tend to have different heights, I dropped 24 same-sex dyads from the dataset to simplify the analysis. Same-sex couples are interesting and equally deserving of research focus, but their numbers are too small within the original HRS sample for us to examine them.\n",
    "\n",
    "I'll refer to the males as \"husbands\" and the females as \"wives.\""
   ]
  },
  {
   "cell_type": "markdown",
   "metadata": {},
   "source": [
    "<b>To view the Sheets file, click here:</b> [HRS wave 8 hcouples.sheets](https://docs.google.com/spreadsheets/d/1FRsXnmTQWjZF5FdM2sPdA5Z91TkmXzvP0r8tA6bDTAM/edit?usp=sharing)"
   ]
  },
  {
   "cell_type": "code",
   "execution_count": null,
   "metadata": {
    "collapsed": true
   },
   "outputs": [],
   "source": [
    "sheet_url = \"https://docs.google.com/spreadsheets/d/1FRsXnmTQWjZF5FdM2sPdA5Z91TkmXzvP0r8tA6bDTAM/edit?usp=sharing\"\n",
    "\n",
    "h8hcpl <- read_sheet(sheet_url,\n",
    "                         range = \"A1:P2064\")"
   ]
  },
  {
   "cell_type": "markdown",
   "metadata": {},
   "source": [
    "First let's quickly examine the top of the dataset, examine its dimensions, and assign $n$ to be the number of rows, which is the sample size."
   ]
  },
  {
   "cell_type": "code",
   "execution_count": null,
   "metadata": {
    "collapsed": true
   },
   "outputs": [],
   "source": [
    "head(h8hcpl)\n",
    "dimensions = dim(h8hcpl)\n",
    "n = dimensions[1]\n",
    "n"
   ]
  },
  {
   "cell_type": "markdown",
   "metadata": {},
   "source": [
    "---"
   ]
  },
  {
   "cell_type": "markdown",
   "metadata": {},
   "source": [
    "Run the code below to generate a histogram of the heights in inches of wives in the data."
   ]
  },
  {
   "cell_type": "code",
   "execution_count": null,
   "metadata": {
    "collapsed": true
   },
   "outputs": [],
   "source": [
    "hist(h8hcpl$s8heightbio_in,\n",
    "    main = \"Histogram of wives' heights in wave 8 of HRS\",\n",
    "    xlab = \"Objective height in inches\"\n",
    "    )"
   ]
  },
  {
   "cell_type": "markdown",
   "metadata": {},
   "source": [
    "<b><font color = \"red\">1(a). Describe the distribution of wives’ heights. Discuss its shape, referencing the right and left tail when appropriate. Take a guess at the mean.</font></b>"
   ]
  },
  {
   "cell_type": "markdown",
   "metadata": {},
   "source": []
  },
  {
   "cell_type": "markdown",
   "metadata": {},
   "source": [
    "<b><font color = \"red\">1(b). Calculate the mean of wife's height by completing the code below.</font></b>"
   ]
  },
  {
   "cell_type": "code",
   "execution_count": null,
   "metadata": {
    "collapsed": true
   },
   "outputs": [],
   "source": [
    "meanheight_wives = mean(h8hcpl$s8heightbio_in)\n",
    "meanheight_wives"
   ]
  },
  {
   "cell_type": "markdown",
   "metadata": {},
   "source": [
    "---"
   ]
  },
  {
   "cell_type": "markdown",
   "metadata": {},
   "source": [
    "Run the code below to generate a histogram of the heights in inches of husbands in the data."
   ]
  },
  {
   "cell_type": "code",
   "execution_count": null,
   "metadata": {
    "collapsed": true
   },
   "outputs": [],
   "source": [
    "hist(h8hcpl$r8heightbio_in,\n",
    "    main = \"Histogram of husbands' heights in wave 8 of HRS\",\n",
    "    xlab = \"Objective height in inches\"\n",
    "    )"
   ]
  },
  {
   "cell_type": "markdown",
   "metadata": {},
   "source": [
    "<b><font color = \"red\">2(a). Describe the distribution of husbands’ heights. Discuss its shape, referencing the right and left tail when appropriate. Take a guess at the mean.</font></b>"
   ]
  },
  {
   "cell_type": "markdown",
   "metadata": {},
   "source": []
  },
  {
   "cell_type": "markdown",
   "metadata": {},
   "source": [
    "<b><font color = \"red\">2(b). Calculate the mean of husband's height by completing the code below.</font></b>"
   ]
  },
  {
   "cell_type": "code",
   "execution_count": null,
   "metadata": {
    "collapsed": true
   },
   "outputs": [],
   "source": [
    "meanheight_husbands = mean(h8hcpl$r8heightbio_in)\n",
    "meanheight_husbands"
   ]
  },
  {
   "cell_type": "markdown",
   "metadata": {},
   "source": [
    "---"
   ]
  },
  {
   "cell_type": "markdown",
   "metadata": {},
   "source": [
    "Run the code below to generate a scatterplot of husbands' heights ($Y$) as function of wives' heights ($X$), with a horizontal line and a vertical line running through the point of averages."
   ]
  },
  {
   "cell_type": "code",
   "execution_count": null,
   "metadata": {
    "collapsed": true
   },
   "outputs": [],
   "source": [
    "plot(h8hcpl$s8heightbio_in, h8hcpl$r8heightbio_in, \n",
    "     main = \"Scatterplot of heights in HRS couples\",\n",
    "     xlab = \"Objective height of wife in inches\",\n",
    "     ylab = \"Objective height of husband in inches\"\n",
    "     )\n",
    "abline(v = meanheight_wives, \n",
    "       col = \"red\", \n",
    "       lwd = 2\n",
    "      )\n",
    "abline(h = meanheight_husbands,\n",
    "       col = \"blue\", \n",
    "       lwd = 2\n",
    "      ) "
   ]
  },
  {
   "cell_type": "markdown",
   "metadata": {},
   "source": [
    "<b><font color = \"red\">3. Discuss what you see in the scatterplot. Do you see a positive association between $Y$ and $X$? Or a negative association? Or no association? Take a stand and briefly describe.</font></b>"
   ]
  },
  {
   "cell_type": "markdown",
   "metadata": {},
   "source": []
  },
  {
   "cell_type": "markdown",
   "metadata": {},
   "source": [
    "Complete the code below and run it in order to find the Pearson correlation coefficient $r$; the standard deviation of $Y$, $SD(Y)$; the standard deviation of $X$, $SD(X)$; and the regression coefficient $\\beta = r \\times SD(Y)/SD(X)$."
   ]
  },
  {
   "cell_type": "code",
   "execution_count": null,
   "metadata": {
    "collapsed": true
   },
   "outputs": [],
   "source": [
    "r = cor(..., ...)\n",
    "r\n",
    "\n",
    "sdy = sd(...) * sqrt((n-1)/n)\n",
    "sdy\n",
    "\n",
    "sdx = sd(...) * sqrt((n-1)/n)\n",
    "sdx\n",
    "\n",
    "betacoef = r * sdy / sdx\n",
    "betacoef"
   ]
  },
  {
   "cell_type": "markdown",
   "metadata": {},
   "source": [
    "---"
   ]
  },
  {
   "cell_type": "markdown",
   "metadata": {},
   "source": [
    "<b><font color = \"red\">4. Think about what $Y$ and $X$ actually are. Does $X$ cause $Y$? Or does $Y$ cause $X$? Discuss, both in a literal sense and also figuratively (i.e., abstractly, about what Y and X represent rather than just their literal meaning).</font></b>"
   ]
  },
  {
   "cell_type": "markdown",
   "metadata": {},
   "source": []
  },
  {
   "cell_type": "markdown",
   "metadata": {},
   "source": [
    "---"
   ]
  },
  {
   "cell_type": "markdown",
   "metadata": {},
   "source": [
    "Run the code below to generate a histogram of the years of education among wives in the data."
   ]
  },
  {
   "cell_type": "code",
   "execution_count": null,
   "metadata": {
    "collapsed": true
   },
   "outputs": [],
   "source": [
    "hist(h8hcpl$s8edyrs,\n",
    "    main = \"Histogram of wives' years of education in wave 8 of HRS\",\n",
    "    xlab = \"Years of education\"\n",
    "    )"
   ]
  },
  {
   "cell_type": "markdown",
   "metadata": {},
   "source": [
    "<b><font color = \"red\">5(a). Describe the distribution of wives’ schooling. Discuss its shape, referencing the right and left tail when appropriate. Take a guess at the mean.</font></b>"
   ]
  },
  {
   "cell_type": "markdown",
   "metadata": {},
   "source": []
  },
  {
   "cell_type": "markdown",
   "metadata": {},
   "source": [
    "<b><font color = \"red\">5(b). Calculate the mean of wife's height by completing the code below. Note that there are missing values coded as NA in the education data, so you must deal with them inside the call to `mean()`.</font></b>"
   ]
  },
  {
   "cell_type": "code",
   "execution_count": null,
   "metadata": {
    "collapsed": true
   },
   "outputs": [],
   "source": [
    "meanedyrs_wives = mean(h8hcpl$s8edyrs, na.rm = TRUE)\n",
    "meanedyrs_wives"
   ]
  },
  {
   "cell_type": "markdown",
   "metadata": {},
   "source": [
    "---"
   ]
  },
  {
   "cell_type": "markdown",
   "metadata": {},
   "source": [
    "Run the code below to generate a histogram of the years of education among husbands in the data."
   ]
  },
  {
   "cell_type": "code",
   "execution_count": null,
   "metadata": {
    "collapsed": true
   },
   "outputs": [],
   "source": [
    "hist(h8hcpl$raedyrs,\n",
    "    main = \"Histogram of husbands' years of education in wave 8 of HRS\",\n",
    "    xlab = \"Years of education\"\n",
    "    )"
   ]
  },
  {
   "cell_type": "markdown",
   "metadata": {},
   "source": [
    "<b><font color = \"red\">6(a). Describe the distribution of husbands’ schooling. Discuss its shape, referencing the right and left tail when appropriate. Take a guess at the mean.</font></b>"
   ]
  },
  {
   "cell_type": "markdown",
   "metadata": {},
   "source": []
  },
  {
   "cell_type": "markdown",
   "metadata": {},
   "source": [
    "<b><font color = \"red\">6(b). Calculate the mean of husband's height by completing the code below. Note that there are missing values coded as NA in the education data, so you must deal with them inside the call to `mean()`.</font></b>"
   ]
  },
  {
   "cell_type": "code",
   "execution_count": null,
   "metadata": {
    "collapsed": true
   },
   "outputs": [],
   "source": [
    "meanedyrs_husbands = mean(h8hcpl$raedyrs, na.rm = TRUE)\n",
    "meanedyrs_husbands"
   ]
  },
  {
   "cell_type": "markdown",
   "metadata": {},
   "source": [
    "---"
   ]
  },
  {
   "cell_type": "markdown",
   "metadata": {},
   "source": [
    "Run the code below to generate a scatterplot of husbands' height ($Y$) as function of wives' education ($X$), with a horizontal line and a vertical line running through the point of averages."
   ]
  },
  {
   "cell_type": "code",
   "execution_count": null,
   "metadata": {
    "collapsed": true
   },
   "outputs": [],
   "source": [
    "plot(h8hcpl$s8edyrs, h8hcpl$r8heightbio_in, \n",
    "     main = \"Scatterplot of education in HRS couples\",\n",
    "     xlab = \"Wife's years of education\",\n",
    "     ylab = \"Objective height of husband in inches\"\n",
    "     )\n",
    "abline(v = meanedyrs_wives, \n",
    "       col = \"red\", \n",
    "       lwd = 2\n",
    "      )\n",
    "abline(h = meanheight_husbands,\n",
    "       col = \"blue\", \n",
    "       lwd = 2\n",
    "      ) "
   ]
  },
  {
   "cell_type": "markdown",
   "metadata": {},
   "source": [
    "<b><font color = \"red\">7. Discuss what you see in the scatterplot. Do you see a positive association between $Y$ and $X$? Or a negative association? Or no association? Take a stand and briefly describe.</font></b>"
   ]
  },
  {
   "cell_type": "markdown",
   "metadata": {},
   "source": []
  },
  {
   "cell_type": "markdown",
   "metadata": {},
   "source": [
    "---"
   ]
  },
  {
   "cell_type": "markdown",
   "metadata": {},
   "source": [
    "Complete the code below and run it in order to find the Pearson correlation coefficient $r$; the standard deviation of $Y$, $SD(Y)$; the standard deviation of $X$, $SD(X)$; and the regression coefficient $\\beta = r \\times SD(Y)/SD(X)$ for this $X$ and this $Y$.\n",
    "\n",
    "Note the funny change in syntax for `cor()` when there are missing values. :/"
   ]
  },
  {
   "cell_type": "code",
   "execution_count": null,
   "metadata": {
    "collapsed": true
   },
   "outputs": [],
   "source": [
    "r_eh = cor(..., ..., use = \"complete.obs\")\n",
    "r_eh\n",
    "\n",
    "sdy_h = sd(..., na.rm = TRUE) * sqrt((n-1)/n)\n",
    "sdy_h\n",
    "\n",
    "sdx_e = sd(..., na.rm = TRUE) * sqrt((n-1)/n)\n",
    "sdx_e\n",
    "\n",
    "betacoef_eh = r_eh * sdy_h / sdx_e\n",
    "betacoef_eh"
   ]
  },
  {
   "cell_type": "markdown",
   "metadata": {},
   "source": [
    "---"
   ]
  },
  {
   "cell_type": "markdown",
   "metadata": {},
   "source": [
    "<b><font color = \"red\">8. Think about what $Y$ and $X$ actually are. Does $X$ cause $Y$? Or does $Y$ cause $X$? Discuss, both in a literal sense and also figuratively (i.e., abstractly, about what Y and X represent rather than just their literal meaning).</font></b>"
   ]
  },
  {
   "cell_type": "markdown",
   "metadata": {},
   "source": []
  },
  {
   "cell_type": "markdown",
   "metadata": {},
   "source": [
    "<div style=\"text-align: right\"> <span style=\"font-family:Papyrus; \">And they lived happily ever after. The End.</span></div>"
   ]
  },
  {
   "cell_type": "markdown",
   "metadata": {},
   "source": []
  }
 ],
 "metadata": {
  "kernelspec": {
   "display_name": "R",
   "language": "R",
   "name": "ir"
  },
  "language_info": {
   "codemirror_mode": "r",
   "file_extension": ".r",
   "mimetype": "text/x-r-source",
   "name": "R",
   "pygments_lexer": "r",
   "version": "4.2.1"
  }
 },
 "nbformat": 4,
 "nbformat_minor": 5
}
